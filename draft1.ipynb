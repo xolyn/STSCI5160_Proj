{
 "cells": [
  {
   "cell_type": "markdown",
   "metadata": {},
   "source": [
    "## Diabetes:"
   ]
  },
  {
   "cell_type": "markdown",
   "metadata": {},
   "source": [
    "|Before cleaning|After cleaning|\n",
    "|---|---|\n",
    "|Yes|Yes|\n",
    "|No|No|\n",
    "|Borderline|Yes|\n",
    "|Refused|NaN|\n",
    "|Don't know|No|\n",
    "\n",
    "Since categorical: NaN is be assigned to values according to the proportion of sample"
   ]
  },
  {
   "cell_type": "code",
   "execution_count": 124,
   "metadata": {},
   "outputs": [
    {
     "name": "stdout",
     "output_type": "stream",
     "text": [
      "\n",
      "Total length:1910\n",
      "\n",
      "Values count:\n",
      "2.0    1490\n",
      "1.0     303\n",
      "NaN      72\n",
      "3.0      44\n",
      "9.0       1\n",
      "Name: diabetes, dtype: int64\n",
      "\n",
      "Statistical properties:\n",
      "count    1838.000000\n",
      "mean        1.862894\n",
      "std         0.443577\n",
      "min         1.000000\n",
      "25%         2.000000\n",
      "50%         2.000000\n",
      "75%         2.000000\n",
      "max         9.000000\n",
      "Name: diabetes, dtype: float64\n"
     ]
    }
   ],
   "source": [
    "import pandas as pd\n",
    "import numpy as np\n",
    "df=pd.read_csv(\"../Handout/final_cardiac_data.csv\")\n",
    "print(\"\\nTotal length:\",len(df[\"diabetes\"]),sep=\"\")\n",
    "\n",
    "print(\"\\nValues count:\\n\",df[\"diabetes\"].value_counts(dropna=False),sep=\"\")\n",
    "\n",
    "print(\"\\nStatistical properties:\\n\",df[\"diabetes\"].describe(),sep=\"\")"
   ]
  },
  {
   "cell_type": "code",
   "execution_count": 125,
   "metadata": {},
   "outputs": [],
   "source": [
    "df['diabetes'].replace(3, 1, inplace=True)\n",
    "df['diabetes'].replace(9, np.NaN, inplace=True)\n",
    "# df"
   ]
  },
  {
   "cell_type": "code",
   "execution_count": 126,
   "metadata": {},
   "outputs": [
    {
     "data": {
      "text/plain": [
       "2.0    1490\n",
       "1.0     347\n",
       "NaN      73\n",
       "Name: diabetes, dtype: int64"
      ]
     },
     "execution_count": 126,
     "metadata": {},
     "output_type": "execute_result"
    }
   ],
   "source": [
    "df['diabetes'].value_counts(dropna=False)"
   ]
  },
  {
   "cell_type": "code",
   "execution_count": 127,
   "metadata": {},
   "outputs": [
    {
     "data": {
      "text/plain": [
       "(14, 59)"
      ]
     },
     "execution_count": 127,
     "metadata": {},
     "output_type": "execute_result"
    }
   ],
   "source": [
    "nanto2=int(round((df['diabetes'].value_counts(dropna=False)[2.0]/df['diabetes'].value_counts(dropna=True).sum())*df['diabetes'].value_counts(dropna=False)[np.NaN],0))\n",
    "nanto1=int(round((df['diabetes'].value_counts(dropna=False)[1.0]/df['diabetes'].value_counts(dropna=True).sum())*df['diabetes'].value_counts(dropna=False)[np.NaN],0))\n",
    "\n",
    "nanto1,nanto2"
   ]
  },
  {
   "cell_type": "code",
   "execution_count": 122,
   "metadata": {},
   "outputs": [],
   "source": [
    "nan_indices = df.index[df['diabetes'].isna()].tolist()\n",
    "replace_2_indices = np.random.choice(nan_indices, size=nanto2, replace=False)\n",
    "remaining_nan_indices = list(set(nan_indices) - set(replace_2_indices))\n",
    "replace_1_indices = np.random.choice(remaining_nan_indices, size=nanto1, replace=False)\n",
    "df.loc[replace_2_indices, 'diabetes'] = 2.0\n",
    "df.loc[replace_1_indices, 'diabetes'] = 1.0"
   ]
  },
  {
   "cell_type": "code",
   "execution_count": 123,
   "metadata": {},
   "outputs": [
    {
     "data": {
      "text/plain": [
       "2.0    1549\n",
       "1.0     361\n",
       "Name: diabetes, dtype: int64"
      ]
     },
     "execution_count": 123,
     "metadata": {},
     "output_type": "execute_result"
    }
   ],
   "source": [
    "df['diabetes'].value_counts(dropna=False)"
   ]
  },
  {
   "cell_type": "markdown",
   "metadata": {},
   "source": [
    "<hr>"
   ]
  },
  {
   "cell_type": "code",
   "execution_count": 3,
   "metadata": {},
   "outputs": [
    {
     "data": {
      "text/plain": [
       "2.0    1345\n",
       "1.0     418\n",
       "NaN     147\n",
       "Name: smoker, dtype: int64"
      ]
     },
     "execution_count": 3,
     "metadata": {},
     "output_type": "execute_result"
    }
   ],
   "source": [
    "df[\"smoker\"].value_counts(dropna=False)"
   ]
  },
  {
   "cell_type": "code",
   "execution_count": 17,
   "metadata": {},
   "outputs": [
    {
     "data": {
      "text/plain": [
       "8.0     378\n",
       "7.0     316\n",
       "9.0     199\n",
       "7.5     180\n",
       "6.0     165\n",
       "8.5     131\n",
       "6.5     106\n",
       "5.0      82\n",
       "10.0     77\n",
       "9.5      45\n",
       "5.5      45\n",
       "4.0      39\n",
       "11.0     38\n",
       "10.5     24\n",
       "4.5      19\n",
       "3.0      16\n",
       "NaN      13\n",
       "12.0     12\n",
       "3.5       6\n",
       "2.0       6\n",
       "11.5      6\n",
       "14.0      4\n",
       "13.0      3\n",
       "Name: sleep.hrs, dtype: int64"
      ]
     },
     "execution_count": 17,
     "metadata": {},
     "output_type": "execute_result"
    }
   ],
   "source": [
    "df[\"sleep.hrs\"].value_counts(dropna=False)"
   ]
  },
  {
   "cell_type": "code",
   "execution_count": 19,
   "metadata": {},
   "outputs": [
    {
     "data": {
      "text/plain": [
       "NaN     46\n",
       "29.1    22\n",
       "25.6    18\n",
       "33.5    17\n",
       "28.9    16\n",
       "        ..\n",
       "52.3     1\n",
       "55.3     1\n",
       "47.7     1\n",
       "51.9     1\n",
       "14.2     1\n",
       "Name: bmi, Length: 346, dtype: int64"
      ]
     },
     "execution_count": 19,
     "metadata": {},
     "output_type": "execute_result"
    }
   ],
   "source": [
    "df[\"bmi\"].value_counts(dropna=False)"
   ]
  },
  {
   "cell_type": "code",
   "execution_count": 20,
   "metadata": {},
   "outputs": [
    {
     "data": {
      "text/plain": [
       "2.0    1490\n",
       "1.0     303\n",
       "NaN      72\n",
       "3.0      44\n",
       "9.0       1\n",
       "Name: diabetes, dtype: int64"
      ]
     },
     "execution_count": 20,
     "metadata": {},
     "output_type": "execute_result"
    }
   ],
   "source": [
    "df[\"diabetes\"].value_counts(dropna=False)"
   ]
  },
  {
   "cell_type": "code",
   "execution_count": 30,
   "metadata": {},
   "outputs": [
    {
     "name": "stdout",
     "output_type": "stream",
     "text": [
      "Unnamed: 0 : False\n",
      "seqn : False\n",
      "event : False\n",
      "gender : False\n",
      "age : False\n",
      "ethnic1 : False\n",
      "educ : False\n",
      "sleep.hrs : True\n",
      "diabetes : True\n",
      "smoker : True\n",
      "bmi : True\n"
     ]
    }
   ],
   "source": [
    "for i in list(df.columns):\n",
    "    print(i,\":\",df[i].isnull().values.any())"
   ]
  },
  {
   "cell_type": "markdown",
   "metadata": {},
   "source": [
    "#### drop"
   ]
  },
  {
   "cell_type": "code",
   "execution_count": 4,
   "metadata": {},
   "outputs": [],
   "source": [
    "dfdrop=df.dropna()"
   ]
  },
  {
   "cell_type": "code",
   "execution_count": 7,
   "metadata": {},
   "outputs": [
    {
     "data": {
      "text/plain": [
       "1659"
      ]
     },
     "execution_count": 7,
     "metadata": {},
     "output_type": "execute_result"
    }
   ],
   "source": [
    "len(dfdrop)"
   ]
  },
  {
   "cell_type": "code",
   "execution_count": 8,
   "metadata": {},
   "outputs": [
    {
     "data": {
      "text/plain": [
       "1910"
      ]
     },
     "execution_count": 8,
     "metadata": {},
     "output_type": "execute_result"
    }
   ],
   "source": [
    "len(df)"
   ]
  },
  {
   "cell_type": "markdown",
   "metadata": {},
   "source": [
    "### % of null (entire model):"
   ]
  },
  {
   "cell_type": "code",
   "execution_count": 128,
   "metadata": {},
   "outputs": [
    {
     "data": {
      "text/plain": [
       "0.13141361256544504"
      ]
     },
     "execution_count": 128,
     "metadata": {},
     "output_type": "execute_result"
    }
   ],
   "source": [
    "(1910-1659)/1910"
   ]
  }
 ],
 "metadata": {
  "kernelspec": {
   "display_name": "base",
   "language": "python",
   "name": "python3"
  },
  "language_info": {
   "codemirror_mode": {
    "name": "ipython",
    "version": 3
   },
   "file_extension": ".py",
   "mimetype": "text/x-python",
   "name": "python",
   "nbconvert_exporter": "python",
   "pygments_lexer": "ipython3",
   "version": "3.9.13"
  }
 },
 "nbformat": 4,
 "nbformat_minor": 2
}
